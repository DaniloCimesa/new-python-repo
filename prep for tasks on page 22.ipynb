{
 "cells": [
  {
   "cell_type": "code",
   "execution_count": 1,
   "id": "359b8a69",
   "metadata": {},
   "outputs": [
    {
     "data": {
      "text/plain": [
       "361"
      ]
     },
     "execution_count": 1,
     "metadata": {},
     "output_type": "execute_result"
    }
   ],
   "source": [
    "3*4*5*6+1"
   ]
  },
  {
   "cell_type": "code",
   "execution_count": 2,
   "id": "20d97beb",
   "metadata": {},
   "outputs": [
    {
     "data": {
      "text/plain": [
       "2417851639229258349412352"
      ]
     },
     "execution_count": 2,
     "metadata": {},
     "output_type": "execute_result"
    }
   ],
   "source": [
    "2**3**4"
   ]
  },
  {
   "cell_type": "code",
   "execution_count": 3,
   "id": "3cf82b0e",
   "metadata": {},
   "outputs": [
    {
     "data": {
      "text/plain": [
       "2417851639229258349412352"
      ]
     },
     "execution_count": 3,
     "metadata": {},
     "output_type": "execute_result"
    }
   ],
   "source": [
    "2**(3**4)"
   ]
  },
  {
   "cell_type": "code",
   "execution_count": 4,
   "id": "7ab2ae8c",
   "metadata": {},
   "outputs": [
    {
     "data": {
      "text/plain": [
       "4096"
      ]
     },
     "execution_count": 4,
     "metadata": {},
     "output_type": "execute_result"
    }
   ],
   "source": [
    "(2**3)**4"
   ]
  },
  {
   "cell_type": "code",
   "execution_count": 5,
   "id": "8a5c4da7",
   "metadata": {},
   "outputs": [
    {
     "data": {
      "text/plain": [
       "(-1+0j)"
      ]
     },
     "execution_count": 5,
     "metadata": {},
     "output_type": "execute_result"
    }
   ],
   "source": [
    "(1j)**2"
   ]
  },
  {
   "cell_type": "code",
   "execution_count": 6,
   "id": "12c23406",
   "metadata": {},
   "outputs": [
    {
     "data": {
      "text/plain": [
       "3.141592653589793"
      ]
     },
     "execution_count": 6,
     "metadata": {},
     "output_type": "execute_result"
    }
   ],
   "source": [
    "import math\n",
    "\n",
    "math.pi"
   ]
  },
  {
   "cell_type": "code",
   "execution_count": 7,
   "id": "ea25d287",
   "metadata": {},
   "outputs": [
    {
     "data": {
      "text/plain": [
       "1.0"
      ]
     },
     "execution_count": 7,
     "metadata": {},
     "output_type": "execute_result"
    }
   ],
   "source": [
    "math.sin(math.pi/2)"
   ]
  },
  {
   "cell_type": "code",
   "execution_count": 12,
   "id": "c812da3f",
   "metadata": {},
   "outputs": [
    {
     "data": {
      "text/plain": [
       "1.0"
      ]
     },
     "execution_count": 12,
     "metadata": {},
     "output_type": "execute_result"
    }
   ],
   "source": [
    "math.sin(math.pi/3)**2+math.cos(math.pi/3)**2"
   ]
  },
  {
   "cell_type": "code",
   "execution_count": 13,
   "id": "23445d5b",
   "metadata": {},
   "outputs": [
    {
     "data": {
      "text/plain": [
       "3.5"
      ]
     },
     "execution_count": 13,
     "metadata": {},
     "output_type": "execute_result"
    }
   ],
   "source": [
    "3+1/2"
   ]
  },
  {
   "cell_type": "code",
   "execution_count": 14,
   "id": "2731c077",
   "metadata": {},
   "outputs": [
    {
     "data": {
      "text/plain": [
       "4.285714285714286"
      ]
     },
     "execution_count": 14,
     "metadata": {},
     "output_type": "execute_result"
    }
   ],
   "source": [
    "4+1/_"
   ]
  },
  {
   "cell_type": "code",
   "execution_count": 23,
   "id": "b35b4fb3",
   "metadata": {},
   "outputs": [],
   "source": [
    "import math\n",
    "import numpy\n",
    "import sympy"
   ]
  },
  {
   "cell_type": "code",
   "execution_count": 30,
   "id": "bb6acb47",
   "metadata": {},
   "outputs": [
    {
     "data": {
      "text/plain": [
       "0.5877852522924731"
      ]
     },
     "execution_count": 30,
     "metadata": {},
     "output_type": "execute_result"
    }
   ],
   "source": [
    "math.sin(math.pi/5)"
   ]
  },
  {
   "cell_type": "code",
   "execution_count": 31,
   "id": "94005829",
   "metadata": {},
   "outputs": [
    {
     "data": {
      "text/plain": [
       "np.float64(0.5877852522924731)"
      ]
     },
     "execution_count": 31,
     "metadata": {},
     "output_type": "execute_result"
    }
   ],
   "source": [
    "numpy.sin(math.pi/5)"
   ]
  },
  {
   "cell_type": "code",
   "execution_count": 32,
   "id": "f8707217",
   "metadata": {},
   "outputs": [
    {
     "data": {
      "text/latex": [
       "$\\displaystyle 0.587785252292473$"
      ],
      "text/plain": [
       "0.587785252292473"
      ]
     },
     "execution_count": 32,
     "metadata": {},
     "output_type": "execute_result"
    }
   ],
   "source": [
    "sympy.sin(math.pi/5)"
   ]
  },
  {
   "cell_type": "code",
   "execution_count": 33,
   "id": "25804265",
   "metadata": {},
   "outputs": [
    {
     "data": {
      "text/latex": [
       "$\\displaystyle - \\frac{\\sqrt{5}}{8} + \\frac{5}{8} + \\left(\\frac{1}{4} + \\frac{\\sqrt{5}}{4}\\right)^{2}$"
      ],
      "text/plain": [
       "-sqrt(5)/8 + 5/8 + (1/4 + sqrt(5)/4)**2"
      ]
     },
     "execution_count": 33,
     "metadata": {},
     "output_type": "execute_result"
    }
   ],
   "source": [
    "sympy.sin(sympy.pi/5)**2+sympy.cos(sympy.pi/5)**2"
   ]
  },
  {
   "cell_type": "code",
   "execution_count": 34,
   "id": "9e01fa25",
   "metadata": {},
   "outputs": [
    {
     "data": {
      "text/latex": [
       "$\\displaystyle 1$"
      ],
      "text/plain": [
       "1"
      ]
     },
     "execution_count": 34,
     "metadata": {},
     "output_type": "execute_result"
    }
   ],
   "source": [
    "sympy.simplify(_)"
   ]
  },
  {
   "cell_type": "code",
   "execution_count": 35,
   "id": "f6d270a2",
   "metadata": {},
   "outputs": [
    {
     "data": {
      "text/plain": [
       "np.float64(1.0)"
      ]
     },
     "execution_count": 35,
     "metadata": {},
     "output_type": "execute_result"
    }
   ],
   "source": [
    "numpy.sin(numpy.pi/5)**2+numpy.cos(numpy.pi/5)**2"
   ]
  },
  {
   "cell_type": "code",
   "execution_count": 37,
   "id": "efe04560",
   "metadata": {},
   "outputs": [],
   "source": [
    "x=sympy.symbols('x')"
   ]
  },
  {
   "cell_type": "code",
   "execution_count": 38,
   "id": "3be9e799",
   "metadata": {},
   "outputs": [
    {
     "data": {
      "text/latex": [
       "$\\displaystyle x + 1$"
      ],
      "text/plain": [
       "x + 1"
      ]
     },
     "execution_count": 38,
     "metadata": {},
     "output_type": "execute_result"
    }
   ],
   "source": [
    "x+1"
   ]
  },
  {
   "cell_type": "code",
   "execution_count": 39,
   "id": "ed80817b",
   "metadata": {},
   "outputs": [
    {
     "data": {
      "text/latex": [
       "$\\displaystyle \\left(2 x + 3\\right)^{2}$"
      ],
      "text/plain": [
       "(2*x + 3)**2"
      ]
     },
     "execution_count": 39,
     "metadata": {},
     "output_type": "execute_result"
    }
   ],
   "source": [
    "(2*x+3)**2"
   ]
  },
  {
   "cell_type": "code",
   "execution_count": 40,
   "id": "9868a59a",
   "metadata": {},
   "outputs": [],
   "source": [
    "x=sympy.symbols('SometimesUPandsometimesDOWN')"
   ]
  },
  {
   "cell_type": "code",
   "execution_count": 41,
   "id": "5f5c9ebb",
   "metadata": {},
   "outputs": [
    {
     "data": {
      "text/latex": [
       "$\\displaystyle \\frac{SometimesUPandsometimesDOWN}{SometimesUPandsometimesDOWN + 1}$"
      ],
      "text/plain": [
       "SometimesUPandsometimesDOWN/(SometimesUPandsometimesDOWN + 1)"
      ]
     },
     "execution_count": 41,
     "metadata": {},
     "output_type": "execute_result"
    }
   ],
   "source": [
    "x/(1+x)"
   ]
  },
  {
   "cell_type": "code",
   "execution_count": 43,
   "id": "06669d2c",
   "metadata": {},
   "outputs": [
    {
     "data": {
      "text/latex": [
       "$\\displaystyle \\frac{\\sqrt{5} \\left(- \\left(1 - \\sqrt{5}\\right)^{10} + \\left(1 + \\sqrt{5}\\right)^{10}\\right)}{5120}$"
      ],
      "text/plain": [
       "sqrt(5)*(-(1 - sqrt(5))**10 + (1 + sqrt(5))**10)/5120"
      ]
     },
     "execution_count": 43,
     "metadata": {},
     "output_type": "execute_result"
    }
   ],
   "source": [
    "((1+sympy.sqrt(5))**10 - (1-sympy.sqrt(5))**10)/(1024*sympy.sqrt(5))"
   ]
  },
  {
   "cell_type": "code",
   "execution_count": 44,
   "id": "df0de005",
   "metadata": {},
   "outputs": [
    {
     "data": {
      "text/latex": [
       "$\\displaystyle 55$"
      ],
      "text/plain": [
       "55"
      ]
     },
     "execution_count": 44,
     "metadata": {},
     "output_type": "execute_result"
    }
   ],
   "source": [
    "sympy.simplify(_)"
   ]
  },
  {
   "cell_type": "code",
   "execution_count": 45,
   "id": "ca5664df",
   "metadata": {},
   "outputs": [
    {
     "data": {
      "text/plain": [
       "0.30000000000000004"
      ]
     },
     "execution_count": 45,
     "metadata": {},
     "output_type": "execute_result"
    }
   ],
   "source": [
    "0.1+0.2"
   ]
  },
  {
   "cell_type": "code",
   "execution_count": 46,
   "id": "a4e91239",
   "metadata": {},
   "outputs": [
    {
     "data": {
      "text/plain": [
       "-5.551115123125783e-17"
      ]
     },
     "execution_count": 46,
     "metadata": {},
     "output_type": "execute_result"
    }
   ],
   "source": [
    "0.3 - (_)"
   ]
  },
  {
   "cell_type": "code",
   "execution_count": 47,
   "id": "d1a1bcca",
   "metadata": {},
   "outputs": [
    {
     "data": {
      "text/plain": [
       "0"
      ]
     },
     "execution_count": 47,
     "metadata": {},
     "output_type": "execute_result"
    }
   ],
   "source": [
    "round(_)"
   ]
  },
  {
   "cell_type": "code",
   "execution_count": 48,
   "id": "23b457fe",
   "metadata": {},
   "outputs": [
    {
     "name": "stdout",
     "output_type": "stream",
     "text": [
      "Help on built-in function round in module builtins:\n",
      "\n",
      "round(number, ndigits=None)\n",
      "    Round a number to a given precision in decimal digits.\n",
      "    \n",
      "    The return value is an integer if ndigits is omitted or None.  Otherwise\n",
      "    the return value has the same type as the number.  ndigits may be negative.\n",
      "\n"
     ]
    }
   ],
   "source": [
    "help(round)"
   ]
  },
  {
   "cell_type": "code",
   "execution_count": 49,
   "id": "850843a0",
   "metadata": {},
   "outputs": [
    {
     "data": {
      "text/plain": [
       "float"
      ]
     },
     "execution_count": 49,
     "metadata": {},
     "output_type": "execute_result"
    }
   ],
   "source": [
    "type(math.sqrt(2))"
   ]
  },
  {
   "cell_type": "code",
   "execution_count": 51,
   "id": "0f2f6ac0",
   "metadata": {},
   "outputs": [
    {
     "data": {
      "text/plain": [
       "complex"
      ]
     },
     "execution_count": 51,
     "metadata": {},
     "output_type": "execute_result"
    }
   ],
   "source": [
    "type(3.2-2j)"
   ]
  },
  {
   "cell_type": "code",
   "execution_count": 52,
   "id": "7d109509",
   "metadata": {},
   "outputs": [],
   "source": [
    "x =math.sqrt(16)"
   ]
  },
  {
   "cell_type": "code",
   "execution_count": 53,
   "id": "04ee63f9",
   "metadata": {},
   "outputs": [
    {
     "data": {
      "text/plain": [
       "True"
      ]
     },
     "execution_count": 53,
     "metadata": {},
     "output_type": "execute_result"
    }
   ],
   "source": [
    "x.is_integer()"
   ]
  },
  {
   "cell_type": "code",
   "execution_count": null,
   "id": "7c70ff82",
   "metadata": {},
   "outputs": [
    {
     "name": "stdout",
     "output_type": "stream",
     "text": [
      "3 24.11111111111111 False\n",
      "4 28.666666666666668 False\n",
      "5 34.2 False\n",
      "6 40.55555555555556 False\n",
      "7 47.666666666666664 False\n",
      "8 55.5 False\n",
      "9 64.03703703703704 False\n",
      "10 73.26666666666667 False\n"
     ]
    }
   ],
   "source": [
    "m=0\n",
    "x = (( m + 3 )**3+1)/(3*m)\n",
    "x.is_integer()\n",
    "\n",
    "while m<10:\n",
    "    m += 1\n",
    "    x = (( m + 3 )**3+1)/(3*m)\n",
    "    print(m, x, x.is_integer())"
   ]
  },
  {
   "cell_type": "code",
   "execution_count": 62,
   "id": "3032bacb",
   "metadata": {},
   "outputs": [],
   "source": [
    "x =3.4 - 5.0j\n"
   ]
  },
  {
   "cell_type": "code",
   "execution_count": 63,
   "id": "edb72cee",
   "metadata": {},
   "outputs": [
    {
     "name": "stdout",
     "output_type": "stream",
     "text": [
      "3.4   -5.0\n"
     ]
    }
   ],
   "source": [
    "print(x.real, ' ', x.imag)"
   ]
  },
  {
   "cell_type": "code",
   "execution_count": 64,
   "id": "6b4de8d5",
   "metadata": {},
   "outputs": [],
   "source": [
    "x = 2\n"
   ]
  },
  {
   "cell_type": "code",
   "execution_count": 65,
   "id": "49d4ef79",
   "metadata": {},
   "outputs": [
    {
     "data": {
      "text/plain": [
       "2"
      ]
     },
     "execution_count": 65,
     "metadata": {},
     "output_type": "execute_result"
    }
   ],
   "source": [
    "x"
   ]
  },
  {
   "cell_type": "code",
   "execution_count": 66,
   "id": "911cfe2b",
   "metadata": {},
   "outputs": [],
   "source": [
    "message = 'Western Sydney University'"
   ]
  },
  {
   "cell_type": "code",
   "execution_count": 67,
   "id": "94b32923",
   "metadata": {},
   "outputs": [
    {
     "data": {
      "text/plain": [
       "'Western sydney university'"
      ]
     },
     "execution_count": 67,
     "metadata": {},
     "output_type": "execute_result"
    }
   ],
   "source": [
    "message.capitalize()"
   ]
  },
  {
   "cell_type": "code",
   "execution_count": 68,
   "id": "f258e904",
   "metadata": {},
   "outputs": [
    {
     "data": {
      "text/plain": [
       "'First name: Danilo, Last name: Cimesa'"
      ]
     },
     "execution_count": 68,
     "metadata": {},
     "output_type": "execute_result"
    }
   ],
   "source": [
    "fn = 'Danilo'\n",
    "ln = 'Cimesa'\n",
    "\n",
    "f'First name: {fn}, Last name: {ln}'"
   ]
  },
  {
   "cell_type": "code",
   "execution_count": 73,
   "id": "ab0b59e4",
   "metadata": {},
   "outputs": [
    {
     "data": {
      "text/plain": [
       "'First name Danilo'"
      ]
     },
     "execution_count": 73,
     "metadata": {},
     "output_type": "execute_result"
    }
   ],
   "source": [
    "name= 'First name {}'.format('Danilo')\n",
    "name"
   ]
  },
  {
   "cell_type": "code",
   "execution_count": 97,
   "id": "1d45fc6f",
   "metadata": {},
   "outputs": [
    {
     "name": "stdout",
     "output_type": "stream",
     "text": [
      "3.3166247903554\n",
      "3.3166247903554\n"
     ]
    }
   ],
   "source": [
    "import sympy\n",
    "\n",
    "x = math.tan(math.pi*3/11)\n",
    "y = math.sin(math.pi*2/11)\n",
    "x+4*y\n",
    "z=math.sqrt(11)\n",
    "\n",
    "x + 4*y == z\n",
    "\n",
    "print(x + 4*y)\n",
    "print(z)"
   ]
  }
 ],
 "metadata": {
  "kernelspec": {
   "display_name": "Python 3",
   "language": "python",
   "name": "python3"
  },
  "language_info": {
   "codemirror_mode": {
    "name": "ipython",
    "version": 3
   },
   "file_extension": ".py",
   "mimetype": "text/x-python",
   "name": "python",
   "nbconvert_exporter": "python",
   "pygments_lexer": "ipython3",
   "version": "3.11.9"
  }
 },
 "nbformat": 4,
 "nbformat_minor": 5
}
