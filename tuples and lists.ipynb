{
 "cells": [
  {
   "cell_type": "code",
   "execution_count": null,
   "id": "228b1a0b",
   "metadata": {},
   "outputs": [],
   "source": [
    "#tuples"
   ]
  },
  {
   "cell_type": "code",
   "execution_count": 4,
   "id": "199703ee",
   "metadata": {},
   "outputs": [
    {
     "name": "stdout",
     "output_type": "stream",
     "text": [
      "showing info https://raw.githubusercontent.com/nltk/nltk_data/gh-pages/index.xml\n"
     ]
    },
    {
     "data": {
      "text/plain": [
       "True"
      ]
     },
     "execution_count": 4,
     "metadata": {},
     "output_type": "execute_result"
    }
   ],
   "source": [
    "import nltk\n",
    "nltk.download()"
   ]
  },
  {
   "cell_type": "code",
   "execution_count": 27,
   "id": "fac7b098",
   "metadata": {},
   "outputs": [],
   "source": [
    "from nltk.corpus import words\n",
    "\n",
    "word_list = words.words()"
   ]
  },
  {
   "cell_type": "code",
   "execution_count": 28,
   "id": "2f9a10bf",
   "metadata": {},
   "outputs": [
    {
     "data": {
      "text/plain": [
       "list"
      ]
     },
     "execution_count": 28,
     "metadata": {},
     "output_type": "execute_result"
    }
   ],
   "source": [
    "type(word_list)"
   ]
  },
  {
   "cell_type": "code",
   "execution_count": 29,
   "id": "3ca12f8b",
   "metadata": {},
   "outputs": [
    {
     "data": {
      "text/plain": [
       "236736"
      ]
     },
     "execution_count": 29,
     "metadata": {},
     "output_type": "execute_result"
    }
   ],
   "source": [
    "len(word_list)"
   ]
  },
  {
   "cell_type": "code",
   "execution_count": 30,
   "id": "9b68bcd4",
   "metadata": {},
   "outputs": [
    {
     "data": {
      "text/plain": [
       "True"
      ]
     },
     "execution_count": 30,
     "metadata": {},
     "output_type": "execute_result"
    }
   ],
   "source": [
    "'fortunate' in word_list"
   ]
  },
  {
   "cell_type": "code",
   "execution_count": 12,
   "id": "338d06ba",
   "metadata": {},
   "outputs": [
    {
     "data": {
      "text/plain": [
       "['austen-emma.txt',\n",
       " 'austen-persuasion.txt',\n",
       " 'austen-sense.txt',\n",
       " 'bible-kjv.txt',\n",
       " 'blake-poems.txt',\n",
       " 'bryant-stories.txt',\n",
       " 'burgess-busterbrown.txt',\n",
       " 'carroll-alice.txt',\n",
       " 'chesterton-ball.txt',\n",
       " 'chesterton-brown.txt',\n",
       " 'chesterton-thursday.txt',\n",
       " 'edgeworth-parents.txt',\n",
       " 'melville-moby_dick.txt',\n",
       " 'milton-paradise.txt',\n",
       " 'shakespeare-caesar.txt',\n",
       " 'shakespeare-hamlet.txt',\n",
       " 'shakespeare-macbeth.txt',\n",
       " 'whitman-leaves.txt']"
      ]
     },
     "execution_count": 12,
     "metadata": {},
     "output_type": "execute_result"
    }
   ],
   "source": [
    "import nltk\n",
    "from nltk.corpus import gutenberg\n",
    "gutenberg.fileids()\n"
   ]
  },
  {
   "cell_type": "code",
   "execution_count": 13,
   "id": "d6c4c5d1",
   "metadata": {},
   "outputs": [],
   "source": [
    "hamlet_sentences = gutenberg.sents('shakespeare-hamlet.txt')"
   ]
  },
  {
   "cell_type": "code",
   "execution_count": 14,
   "id": "d2d88a54",
   "metadata": {},
   "outputs": [
    {
     "data": {
      "text/plain": [
       "3106"
      ]
     },
     "execution_count": 14,
     "metadata": {},
     "output_type": "execute_result"
    }
   ],
   "source": [
    "len(hamlet_sentences)"
   ]
  },
  {
   "cell_type": "code",
   "execution_count": 15,
   "id": "feb44e2d",
   "metadata": {},
   "outputs": [
    {
     "data": {
      "text/plain": [
       "['And', 'all', 'for', 'nothing', '?']"
      ]
     },
     "execution_count": 15,
     "metadata": {},
     "output_type": "execute_result"
    }
   ],
   "source": [
    "hamlet_sentences[1226]"
   ]
  },
  {
   "cell_type": "code",
   "execution_count": 16,
   "id": "55b07f6e",
   "metadata": {},
   "outputs": [],
   "source": [
    "hamlet_words = gutenberg.words('shakespeare-hamlet.txt')"
   ]
  },
  {
   "cell_type": "code",
   "execution_count": 17,
   "id": "463f3534",
   "metadata": {},
   "outputs": [
    {
     "data": {
      "text/plain": [
       "37360"
      ]
     },
     "execution_count": 17,
     "metadata": {},
     "output_type": "execute_result"
    }
   ],
   "source": [
    "len(hamlet_words)"
   ]
  },
  {
   "cell_type": "code",
   "execution_count": 18,
   "id": "23a6fa5f",
   "metadata": {},
   "outputs": [
    {
     "data": {
      "text/plain": [
       "True"
      ]
     },
     "execution_count": 18,
     "metadata": {},
     "output_type": "execute_result"
    }
   ],
   "source": [
    "'Lust' in hamlet_words"
   ]
  },
  {
   "cell_type": "code",
   "execution_count": 19,
   "id": "9c32eb13",
   "metadata": {},
   "outputs": [
    {
     "data": {
      "text/plain": [
       "2"
      ]
     },
     "execution_count": 19,
     "metadata": {},
     "output_type": "execute_result"
    }
   ],
   "source": [
    "hamlet_words.count('Lust')"
   ]
  },
  {
   "cell_type": "code",
   "execution_count": 20,
   "id": "1b3c6acc",
   "metadata": {},
   "outputs": [
    {
     "data": {
      "text/plain": [
       "nltk.corpus.reader.util.StreamBackedCorpusView"
      ]
     },
     "execution_count": 20,
     "metadata": {},
     "output_type": "execute_result"
    }
   ],
   "source": [
    "type(hamlet_words)"
   ]
  },
  {
   "cell_type": "code",
   "execution_count": 21,
   "id": "e82e734e",
   "metadata": {},
   "outputs": [
    {
     "name": "stdout",
     "output_type": "stream",
     "text": [
      "*** Introductory Examples for the NLTK Book ***\n",
      "Loading text1, ..., text9 and sent1, ..., sent9\n",
      "Type the name of the text or sentence to view it.\n",
      "Type: 'texts()' or 'sents()' to list the materials.\n",
      "text1: Moby Dick by Herman Melville 1851\n",
      "text2: Sense and Sensibility by Jane Austen 1811\n",
      "text3: The Book of Genesis\n",
      "text4: Inaugural Address Corpus\n",
      "text5: Chat Corpus\n",
      "text6: Monty Python and the Holy Grail\n",
      "text7: Wall Street Journal\n",
      "text8: Personals Corpus\n",
      "text9: The Man Who Was Thursday by G . K . Chesterton 1908\n"
     ]
    }
   ],
   "source": [
    "import nltk\n",
    "from nltk.book import *"
   ]
  },
  {
   "cell_type": "code",
   "execution_count": 22,
   "id": "09c56ae7",
   "metadata": {},
   "outputs": [
    {
     "data": {
      "text/plain": [
       "['In',\n",
       " 'the',\n",
       " 'beginning',\n",
       " 'God',\n",
       " 'created',\n",
       " 'the',\n",
       " 'heaven',\n",
       " 'and',\n",
       " 'the',\n",
       " 'earth',\n",
       " '.']"
      ]
     },
     "execution_count": 22,
     "metadata": {},
     "output_type": "execute_result"
    }
   ],
   "source": [
    "text3[:11]"
   ]
  },
  {
   "cell_type": "code",
   "execution_count": 23,
   "id": "0b2a4fdc",
   "metadata": {},
   "outputs": [
    {
     "data": {
      "text/plain": [
       "44764"
      ]
     },
     "execution_count": 23,
     "metadata": {},
     "output_type": "execute_result"
    }
   ],
   "source": [
    "len(text3)"
   ]
  },
  {
   "cell_type": "code",
   "execution_count": 24,
   "id": "e96552d1",
   "metadata": {},
   "outputs": [
    {
     "data": {
      "text/plain": [
       "231"
      ]
     },
     "execution_count": 24,
     "metadata": {},
     "output_type": "execute_result"
    }
   ],
   "source": [
    "text3.count('God')"
   ]
  },
  {
   "cell_type": "code",
   "execution_count": null,
   "id": "8610acd4",
   "metadata": {},
   "outputs": [],
   "source": [
    "text3.dispersion_plot(['God', 'earth', 'stars', 'Adam', 'Eve'])"
   ]
  },
  {
   "cell_type": "code",
   "execution_count": 32,
   "id": "8e357446",
   "metadata": {},
   "outputs": [
    {
     "data": {
      "text/plain": [
       "[['x1', 'y1'], ['x2', 'y2'], ['x3', 'y3'], ['x4', 'y4'], ['x5', 'y5']]"
      ]
     },
     "execution_count": 32,
     "metadata": {},
     "output_type": "execute_result"
    }
   ],
   "source": [
    "z = [['x1', 'y1'], ['x2', 'y2'], ['x3', 'y3'], ['x4', 'y4'], ['x5', 'y5']]\n",
    "z"
   ]
  },
  {
   "cell_type": "code",
   "execution_count": 46,
   "id": "7ea770f1",
   "metadata": {},
   "outputs": [],
   "source": [
    "x_list = []\n",
    "y_list=[]\n",
    "for z1 in z:\n",
    "    x_list.append(z1[0])\n",
    "    y_list.append(z1[1])"
   ]
  },
  {
   "cell_type": "code",
   "execution_count": 47,
   "id": "b0e6c723",
   "metadata": {},
   "outputs": [
    {
     "data": {
      "text/plain": [
       "['y1', 'y2', 'y3', 'y4', 'y5']"
      ]
     },
     "execution_count": 47,
     "metadata": {},
     "output_type": "execute_result"
    }
   ],
   "source": [
    "x_list\n",
    "y_list"
   ]
  },
  {
   "cell_type": "code",
   "execution_count": 61,
   "id": "27fc8853",
   "metadata": {},
   "outputs": [
    {
     "name": "stdout",
     "output_type": "stream",
     "text": [
      "[['y1', 'x1'], ['y2', 'x2'], ['y3', 'x3'], ['y4', 'x4'], ['y5', 'x5']]\n"
     ]
    }
   ],
   "source": [
    "reverse = [[y,x] for x,y in z]\n",
    "print(reverse)"
   ]
  },
  {
   "cell_type": "code",
   "execution_count": 67,
   "id": "de623ef4",
   "metadata": {},
   "outputs": [
    {
     "data": {
      "text/plain": [
       "['x1', 'y1', 'x2', 'y2', 'x3', 'y3', 'x4', 'y4', 'x5', 'y5']"
      ]
     },
     "execution_count": 67,
     "metadata": {},
     "output_type": "execute_result"
    }
   ],
   "source": [
    "list2=[]\n",
    "for z1 in z:\n",
    "    list2.append(z1[0])\n",
    "    list2.append(z1[1])\n",
    "\n",
    "list2"
   ]
  },
  {
   "cell_type": "code",
   "execution_count": 92,
   "id": "e81631d4",
   "metadata": {},
   "outputs": [
    {
     "data": {
      "text/plain": [
       "[['x4', 'y4'], ['x2', 'y2']]"
      ]
     },
     "execution_count": 92,
     "metadata": {},
     "output_type": "execute_result"
    }
   ],
   "source": [
    "z\n",
    "z[::2]\n",
    "z[3::-2]"
   ]
  },
  {
   "cell_type": "code",
   "execution_count": 3,
   "id": "9cc71092",
   "metadata": {},
   "outputs": [],
   "source": [
    "#2\n",
    "M = [['a', 'b', 'c'], ['d', 'e', 'f'], ['g', 'h', 'k']]\n",
    "M1=[[0,0,0], [0,0,0], [0,0,0]]"
   ]
  },
  {
   "cell_type": "code",
   "execution_count": 149,
   "id": "af797cd4",
   "metadata": {},
   "outputs": [],
   "source": [
    "#a)\n",
    "#M1=[[0,0,0], [0,0,0], [0,0,0]]\n",
    "M1[0][0], M1[1][0], M1[2][0] = M[0]\n",
    "M1[0][1], M1[1][1], M1[2][1] = M[1]\n",
    "M1[0][2], M1[1][2], M1[2][2] = M[2]\n",
    "\n"
   ]
  },
  {
   "cell_type": "code",
   "execution_count": null,
   "id": "eb83bb30",
   "metadata": {},
   "outputs": [],
   "source": [
    "#b\n",
    "M1=[[0,0,0], [0,0,0], [0,0,0]]\n",
    "M1[0][0], M1[1][1], M1[2][2] = M[0][0], M[1][1], M[2][2]"
   ]
  },
  {
   "cell_type": "code",
   "execution_count": 166,
   "id": "bd05d183",
   "metadata": {},
   "outputs": [],
   "source": [
    "#c\n",
    "M1=[[0,0,0], [0,0,0], [0,0,0]]\n",
    "M1[0][2], M1[1][1], M1[2][0] = M[0][2], M[1][1], M[2][0]"
   ]
  },
  {
   "cell_type": "code",
   "execution_count": null,
   "id": "bab2493d",
   "metadata": {},
   "outputs": [
    {
     "data": {
      "text/plain": [
       "[['c', 'b', 'a'], ['f', 'e', 'd'], ['k', 'h', 'g']]"
      ]
     },
     "execution_count": 108,
     "metadata": {},
     "output_type": "execute_result"
    }
   ],
   "source": [
    "#d\n",
    "M2=[]\n",
    "for m in M:\n",
    "    m2=m[::-1]\n",
    "    M2.append(m2)\n"
   ]
  },
  {
   "cell_type": "code",
   "execution_count": null,
   "id": "74bf6942",
   "metadata": {},
   "outputs": [],
   "source": [
    "#e\n",
    "M2[0][0]='1'\n",
    "M2[0][1]='2'\n",
    "M2[1][0] = '3'\n",
    "M2[1][1] = '4'"
   ]
  },
  {
   "cell_type": "code",
   "execution_count": 109,
   "id": "ca69d276",
   "metadata": {},
   "outputs": [
    {
     "name": "stdout",
     "output_type": "stream",
     "text": [
      "[['★', '★', '★'], ['★', '★', '★'], ['★', '★', '★']]\n"
     ]
    }
   ],
   "source": [
    "#f\n",
    "a = '★'\n",
    "size = 3\n",
    "matrix=[]\n",
    "\n",
    "for i in range(size):\n",
    "    row = [a]*size\n",
    "    matrix.append(row)\n",
    "\n",
    "\n",
    "#print(row)\n",
    "print(matrix)\n",
    "\n",
    "matrix[1][1] = 'X'\n",
    "\n"
   ]
  },
  {
   "cell_type": "code",
   "execution_count": 138,
   "id": "0bf07b26",
   "metadata": {},
   "outputs": [
    {
     "data": {
      "text/plain": [
       "[['★', '★', '★'], ['★', 'X', '★'], ['★', '★', '★']]"
      ]
     },
     "execution_count": 138,
     "metadata": {},
     "output_type": "execute_result"
    }
   ],
   "source": [
    "matrix"
   ]
  },
  {
   "cell_type": "code",
   "execution_count": null,
   "id": "22ecb1c9",
   "metadata": {},
   "outputs": [],
   "source": [
    "m = [[1,2,3], [1,2,3], [1,2,3]]\n"
   ]
  },
  {
   "cell_type": "code",
   "execution_count": null,
   "id": "bc4532ec",
   "metadata": {},
   "outputs": [],
   "source": [
    "#nested_list comperhension\n",
    "n = [[x**3 for x in row] for row in m]"
   ]
  },
  {
   "cell_type": "code",
   "execution_count": null,
   "id": "a62d64c8",
   "metadata": {},
   "outputs": [],
   "source": [
    "#nested list loop\n",
    "n=[]\n",
    "for row in m:\n",
    "    n_row = []\n",
    "    for _ in row:\n",
    "        n_row.append(_**3)\n",
    "    n.append(n_row)"
   ]
  }
 ],
 "metadata": {
  "kernelspec": {
   "display_name": "Python 3",
   "language": "python",
   "name": "python3"
  },
  "language_info": {
   "codemirror_mode": {
    "name": "ipython",
    "version": 3
   },
   "file_extension": ".py",
   "mimetype": "text/x-python",
   "name": "python",
   "nbconvert_exporter": "python",
   "pygments_lexer": "ipython3",
   "version": "3.11.9"
  }
 },
 "nbformat": 4,
 "nbformat_minor": 5
}
