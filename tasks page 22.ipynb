{
 "cells": [
  {
   "cell_type": "code",
   "execution_count": 23,
   "id": "cdfa5903",
   "metadata": {},
   "outputs": [
    {
     "data": {
      "text/latex": [
       "$\\displaystyle 3.75$"
      ],
      "text/plain": [
       "3.75000000000000"
      ]
     },
     "execution_count": 23,
     "metadata": {},
     "output_type": "execute_result"
    }
   ],
   "source": [
    "import sympy\n",
    "\n",
    "x = (1/1**2)\n",
    "y = (1/2**2)\n",
    "z = (1/3**2)\n",
    "f = (1/4**2)\n",
    "\n",
    "exp=sympy.sympify(sympy.sqrt(1+x+y)+sympy.sqrt(1+y+z) + sympy.sqrt(1+z+f))\n",
    "exp"
   ]
  },
  {
   "cell_type": "code",
   "execution_count": 27,
   "id": "b30de8c2",
   "metadata": {},
   "outputs": [
    {
     "data": {
      "text/latex": [
       "$\\displaystyle 19.9952380952381$"
      ],
      "text/plain": [
       "19.9952380952381"
      ]
     },
     "execution_count": 27,
     "metadata": {},
     "output_type": "execute_result"
    }
   ],
   "source": [
    "x= 1/2\n",
    "y= 1/3\n",
    "z= 1/5\n",
    "f= 1/7\n",
    "\n",
    "exp = sympy.sympify(x + y + z + f) + sympy.sympify(5*x + 5*y + 5*z + 5*f) + sympy.sympify(11*x + 11*y + 11*z + 11*f) \n",
    "exp"
   ]
  },
  {
   "cell_type": "code",
   "execution_count": 31,
   "id": "0c3474d3",
   "metadata": {},
   "outputs": [
    {
     "data": {
      "text/plain": [
       "13.547777777777778"
      ]
     },
     "execution_count": 31,
     "metadata": {},
     "output_type": "execute_result"
    }
   ],
   "source": [
    "a = 0.6\n",
    "b= 0.4\n",
    "\n",
    "x= (a + 1/a) **2\n",
    "y= (b + 1/b) **2\n",
    "\n",
    "x+y\n",
    "\n",
    "#x+y>=25/2"
   ]
  },
  {
   "cell_type": "code",
   "execution_count": 39,
   "id": "2addd842",
   "metadata": {},
   "outputs": [
    {
     "data": {
      "text/plain": [
       "False"
      ]
     },
     "execution_count": 39,
     "metadata": {},
     "output_type": "execute_result"
    }
   ],
   "source": [
    "import sympy, math\n",
    "\n",
    "x=sympy.tan(sympy.pi*3/11)\n",
    "y=sympy.sin(sympy.pi*2/11)\n",
    "\n",
    "\n",
    "x+4*y == sympy.sqrt(11)"
   ]
  },
  {
   "cell_type": "code",
   "execution_count": 46,
   "id": "70ab42b2",
   "metadata": {},
   "outputs": [
    {
     "data": {
      "text/plain": [
       "False"
      ]
     },
     "execution_count": 46,
     "metadata": {},
     "output_type": "execute_result"
    }
   ],
   "source": [
    "x=64**(1/3)\n",
    "y=2**2+(1/2)**2\n",
    "\n",
    "sympy.sqrt(x+y-1)==4"
   ]
  },
  {
   "cell_type": "code",
   "execution_count": 92,
   "id": "68b2842b",
   "metadata": {},
   "outputs": [
    {
     "name": "stdout",
     "output_type": "stream",
     "text": [
      "2*sqrt(5/8 - sqrt(5)/8) + 2*sqrt(sqrt(5)/8 + 5/8)\n"
     ]
    },
    {
     "data": {
      "text/plain": [
       "False"
      ]
     },
     "execution_count": 92,
     "metadata": {},
     "output_type": "execute_result"
    }
   ],
   "source": [
    "import sympy, math\n",
    "\n",
    "i = 2\n",
    "a=[]\n",
    "while i<=10:\n",
    "    x=sympy.sin((sympy.pi*i/10))\n",
    "    a.append(x)\n",
    "    i+=2\n",
    "\n",
    "\n",
    "total = sum(a)\n",
    "print(total)\n",
    "\n",
    "sympy.simplify(total)== sympy.sqrt(1/2*(5+sympy.sqrt(5)))+sympy.sqrt(1/2*(5-sympy.sqrt(5)))\n",
    "#float(total)\n"
   ]
  },
  {
   "cell_type": "code",
   "execution_count": null,
   "id": "66448f97",
   "metadata": {},
   "outputs": [
    {
     "data": {
      "text/latex": [
       "$\\displaystyle \\frac{\\sqrt{2} \\sqrt{\\frac{5}{8} - \\frac{\\sqrt{5}}{8}}}{2} + \\frac{\\sqrt{2} \\left(\\frac{1}{4} + \\frac{\\sqrt{5}}{4}\\right)}{2}$"
      ],
      "text/plain": [
       "sqrt(2)*sqrt(5/8 - sqrt(5)/8)/2 + sqrt(2)*(1/4 + sqrt(5)/4)/2"
      ]
     },
     "execution_count": 97,
     "metadata": {},
     "output_type": "execute_result"
    }
   ],
   "source": [
    "import sympy\n",
    "\n",
    "a=sympy.cos(sympy.pi/20)\n",
    "\n",
    "i = 1\n",
    "\n",
    "while i<=27:\n",
    "    x=sympy.cos((sympy.pi*i/20))\n",
    "    a+=x\n",
    "    i+=i*3\n",
    "    \n",
    "    \n"
   ]
  },
  {
   "cell_type": "code",
   "execution_count": 199,
   "id": "cc21f16c",
   "metadata": {},
   "outputs": [
    {
     "name": "stdout",
     "output_type": "stream",
     "text": [
      "0.0625000000000000 (-sqrt(2)*(1/4 - sqrt(5)/4)/2 + 0.5 + sqrt(2)*sqrt(sqrt(5)/8 + 5/8)/2)*(-sqrt(2)*sqrt(5/8 - sqrt(5)/8)/2 + 0.5 + sqrt(2)*(1/4 + sqrt(5)/4)/2)*(sqrt(2)*sqrt(5/8 - sqrt(5)/8)/2 + 0.5 + sqrt(2)*(1/4 + sqrt(5)/4)/2)*(-sqrt(2)*sqrt(sqrt(5)/8 + 5/8)/2 - sqrt(2)*(1/4 - sqrt(5)/4)/2 + 0.5)\n"
     ]
    },
    {
     "data": {
      "text/plain": [
       "True"
      ]
     },
     "execution_count": 199,
     "metadata": {},
     "output_type": "execute_result"
    }
   ],
   "source": [
    "i = 1\n",
    "a=[]\n",
    "while i<=27:\n",
    "    angle = i* sympy.pi / 20\n",
    "    if i == 27:\n",
    "        angle = 2 * sympy.pi - 13 * sympy.pi /20\n",
    "    a.append(1/2+sympy.cos(angle))\n",
    "    i=i*3\n",
    "\n",
    "\n",
    "product = sympy.prod(a)\n",
    "\n",
    "simp_product = sympy.simplify(sympy.prod(a))\n",
    "\n",
    "print(simp_product, product)\n",
    "\n",
    "simp_product == 1/16"
   ]
  },
  {
   "cell_type": "code",
   "execution_count": 231,
   "id": "57974766",
   "metadata": {},
   "outputs": [
    {
     "name": "stdout",
     "output_type": "stream",
     "text": [
      "619 620 621 622\n",
      "385019\n"
     ]
    }
   ],
   "source": [
    "import random\n",
    "\n",
    "n=random.randint(0, 1000)\n",
    "n1=n+1\n",
    "n2=n+2\n",
    "n3=n+3\n",
    "n4=n+4\n",
    "\n",
    "z=sympy.sqrt(n1*n2*n3*n4+1)\n",
    "print(n1, n2, n3 ,n4)\n",
    "print(z)"
   ]
  },
  {
   "cell_type": "code",
   "execution_count": 285,
   "id": "d434eff0",
   "metadata": {},
   "outputs": [
    {
     "name": "stdout",
     "output_type": "stream",
     "text": [
      "Expression simplified: (-sqrt(2)*cos(x + pi/4) + 1)/(sqrt(2)*sin(x + pi/4) + 1)\n",
      "Is expression equal to tan(x/2)? None\n"
     ]
    }
   ],
   "source": [
    "import sympy\n",
    "\n",
    "x = sympy.symbols('x', real=True)\n",
    "a = 1+sympy.sin(x)\n",
    "b = sympy.cos(x)\n",
    "\n",
    "exp= (a - b )/(a + b) \n",
    "\n",
    "expr = sympy.trigsimp(exp)\n",
    "\n",
    "is_equal = expr.equals(sympy.tan(x / 2))\n",
    "\n",
    "print(f\"Expression simplified: {expr}\")\n",
    "print(f\"Is expression equal to tan(x/2)? {is_equal}\")\n",
    "\n"
   ]
  },
  {
   "cell_type": "code",
   "execution_count": 290,
   "id": "675cb91d",
   "metadata": {},
   "outputs": [
    {
     "name": "stdout",
     "output_type": "stream",
     "text": [
      "Simplified Left-hand side: (-sqrt(2)*cos(pi/4 + 30) + 1)/(sqrt(2)*sin(pi/4 + 30) + 1)\n",
      "Right-hand side: -0.855993400908519\n",
      "Does the identity hold?: False\n"
     ]
    }
   ],
   "source": [
    "import sympy\n",
    "from sympy import symbols, sin, cos, tan, trigsimp, simplify\n",
    "\n",
    "# Declare symbol x as real\n",
    "x = 30\n",
    "\n",
    "# Define left side of identity\n",
    "lhs = (1 + sin(x) - cos(x)) / (1 + sin(x) + cos(x))\n",
    "\n",
    "# Simplify the left expression using trigsimp\n",
    "lhs_simplified = trigsimp(lhs)\n",
    "\n",
    "# Define right side of identity\n",
    "rhs = tan(x / 2)\n",
    "\n",
    "# Check if difference simplifies to zero\n",
    "identity_holds = lhs_simplified.equals(rhs)\n",
    "\n",
    "# Output results\n",
    "print(\"Simplified Left-hand side:\", lhs_simplified)\n",
    "print(\"Right-hand side:\", rhs)\n",
    "print(\"Does the identity hold?:\", identity_holds)\n"
   ]
  }
 ],
 "metadata": {
  "kernelspec": {
   "display_name": "Python 3",
   "language": "python",
   "name": "python3"
  },
  "language_info": {
   "codemirror_mode": {
    "name": "ipython",
    "version": 3
   },
   "file_extension": ".py",
   "mimetype": "text/x-python",
   "name": "python",
   "nbconvert_exporter": "python",
   "pygments_lexer": "ipython3",
   "version": "3.11.9"
  }
 },
 "nbformat": 4,
 "nbformat_minor": 5
}
