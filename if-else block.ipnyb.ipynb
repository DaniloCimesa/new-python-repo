{
 "cells": [
  {
   "cell_type": "code",
   "execution_count": null,
   "id": "4455dca8",
   "metadata": {},
   "outputs": [],
   "source": [
    "n=int(input(\"Enter a number: \"))\n",
    "\n",
    "if n%2==0:\n",
    "    f=n//2\n",
    "else:\n",
    "    f=3*n+1\n",
    "f"
   ]
  },
  {
   "cell_type": "code",
   "execution_count": null,
   "id": "fc41ff49",
   "metadata": {},
   "outputs": [],
   "source": [
    "n=int(input(\"Enter a number: \"))\n",
    "\n",
    "da = divmod(n,2)\n",
    "\n",
    "if da[1]==0:\n",
    "    f=da[0]\n",
    "else:\n",
    "    f=3*n+1\n",
    "f"
   ]
  },
  {
   "cell_type": "code",
   "execution_count": null,
   "id": "fc7f3a91",
   "metadata": {},
   "outputs": [],
   "source": [
    "#3.1\n",
    "x=8.23 \n",
    "y=8.23000002\n",
    "\n",
    "if abs(x-y)<0.00001:\n",
    "    print(x,\"=\", y)\n",
    "else:\n",
    "    print(x,\"!=\", y)"
   ]
  },
  {
   "cell_type": "code",
   "execution_count": null,
   "id": "59fd6a6c",
   "metadata": {},
   "outputs": [],
   "source": [
    "#3.3\n",
    "\n",
    "x=5\n",
    "\n",
    "if type(x) != int and type(x) != float:\n",
    "    print(\"x is not a number\")\n",
    "\n",
    "elif x == 0:\n",
    "    pritn('x is a zero')\n",
    "elif x > 0:\n",
    "    if type(x) == int:\n",
    "        print(\"x is a positive integer\")\n",
    "    else:\n",
    "        print('x is a positive real number')\n",
    "else:\n",
    "    if type(x) == int:\n",
    "        print(\"x is a negative integer\")\n",
    "    else:\n",
    "        print('x is a negative real number')\n",
    "#    print(\"x is a non-negative integer\")\n",
    "#else:\n",
    "#    print(\"x is a negative integer\")"
   ]
  },
  {
   "cell_type": "code",
   "execution_count": null,
   "id": "f3b3db12",
   "metadata": {},
   "outputs": [],
   "source": [
    "#reversing a string\n",
    "x='stojan'\n",
    "x1=''.join(reversed(x))\n"
   ]
  },
  {
   "cell_type": "code",
   "execution_count": null,
   "id": "ad50fc56",
   "metadata": {},
   "outputs": [],
   "source": [
    "#3.4\n",
    "x=input(\"Enter a word (to check if it is a palindrome):\")\n",
    "\n",
    "if x==x[::-1]:\n",
    "    print(x, \"is a palindrome\")\n",
    "else:\n",
    "    print(x, \"is not a palindrome\")"
   ]
  },
  {
   "cell_type": "code",
   "execution_count": null,
   "id": "cc4a6cc9",
   "metadata": {},
   "outputs": [],
   "source": [
    "#3.4 v2\n",
    "x=input(\"Enter a word (to check if it is a palindrome):\")\n",
    "x1=''.join(reversed(x))\n",
    "\n",
    "if x==x1:\n",
    "    print(x, \"is a palindrome\")\n",
    "else:\n",
    "    print(x, \"is not a palindrome\")"
   ]
  },
  {
   "cell_type": "code",
   "execution_count": null,
   "id": "ed72e21e",
   "metadata": {},
   "outputs": [],
   "source": [
    "#3.5\n",
    "\n",
    "x = ['a','b', 'c', 'd','a']\n",
    "\n",
    "#v1\n",
    "\n",
    "if x[0]==x[-1]:\n",
    "    x=x[1:-1]\n",
    "    print(x)\n",
    "else:\n",
    "    print(x)"
   ]
  },
  {
   "cell_type": "code",
   "execution_count": null,
   "id": "f244b81d",
   "metadata": {},
   "outputs": [],
   "source": [
    "#v2\n",
    "if x==[]:\n",
    "    print(\"It's an empty list, therefore it's a palindrome\")\n",
    "elif x[0]==x[-1]:\n",
    "    x=x[1:-1]\n",
    "    print(x)\n",
    "else:\n",
    "    print(x)"
   ]
  },
  {
   "cell_type": "code",
   "execution_count": null,
   "id": "b7f9b612",
   "metadata": {},
   "outputs": [],
   "source": [
    "#v3\n",
    "#modification to handle the string\n",
    "x='kayak'\n",
    "if x==[] or x == '':\n",
    "    print(\"It's an empty list, therefore it's a palindrome\")\n",
    "elif x[0]==x[-1]:\n",
    "    x=x[1:-1]\n",
    "    print(x)\n",
    "else:\n",
    "    print(x)"
   ]
  }
 ],
 "metadata": {
  "kernelspec": {
   "display_name": "Python 3",
   "language": "python",
   "name": "python3"
  },
  "language_info": {
   "codemirror_mode": {
    "name": "ipython",
    "version": 3
   },
   "file_extension": ".py",
   "mimetype": "text/x-python",
   "name": "python",
   "nbconvert_exporter": "python",
   "pygments_lexer": "ipython3",
   "version": "3.11.9"
  }
 },
 "nbformat": 4,
 "nbformat_minor": 5
}
