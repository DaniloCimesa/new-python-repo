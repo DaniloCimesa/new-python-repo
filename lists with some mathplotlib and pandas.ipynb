{
 "cells": [
  {
   "cell_type": "code",
   "execution_count": 3,
   "id": "17b73d8d",
   "metadata": {},
   "outputs": [
    {
     "data": {
      "text/plain": [
       "list"
      ]
     },
     "execution_count": 3,
     "metadata": {},
     "output_type": "execute_result"
    }
   ],
   "source": [
    "L = [3,6.4, 3, 'stuff', 'x^2+x+1', 64/3]\n",
    "L\n",
    "type(L)"
   ]
  },
  {
   "cell_type": "code",
   "execution_count": 4,
   "id": "69c878a1",
   "metadata": {},
   "outputs": [
    {
     "data": {
      "text/plain": [
       "[3, 6.4, 3, 'stuff', 'x^2+x+1', 21.333333333333332]"
      ]
     },
     "execution_count": 4,
     "metadata": {},
     "output_type": "execute_result"
    }
   ],
   "source": [
    "L"
   ]
  },
  {
   "cell_type": "code",
   "execution_count": 5,
   "id": "7bedae07",
   "metadata": {},
   "outputs": [
    {
     "data": {
      "text/plain": [
       "False"
      ]
     },
     "execution_count": 5,
     "metadata": {},
     "output_type": "execute_result"
    }
   ],
   "source": [
    "[1,2] == [2,1]"
   ]
  },
  {
   "cell_type": "code",
   "execution_count": 6,
   "id": "33dfa203",
   "metadata": {},
   "outputs": [
    {
     "data": {
      "text/plain": [
       "[3, 6.4, 3, 'stuff', 'x^2+x+1', 21.333333333333332, 'more', 'less', [4, 4, 4]]"
      ]
     },
     "execution_count": 6,
     "metadata": {},
     "output_type": "execute_result"
    }
   ],
   "source": [
    "L + ['more', 'less', [4,4,4]]"
   ]
  },
  {
   "cell_type": "code",
   "execution_count": 7,
   "id": "2d9f08c8",
   "metadata": {},
   "outputs": [
    {
     "data": {
      "text/plain": [
       "['South', 'Serbia', 'South', 'Serbia']"
      ]
     },
     "execution_count": 7,
     "metadata": {},
     "output_type": "execute_result"
    }
   ],
   "source": [
    "['South', 'Serbia']*2"
   ]
  },
  {
   "cell_type": "code",
   "execution_count": 24,
   "id": "9547a15a",
   "metadata": {},
   "outputs": [
    {
     "data": {
      "text/plain": [
       "['x^2+x+1', 'stuff', 3]"
      ]
     },
     "execution_count": 24,
     "metadata": {},
     "output_type": "execute_result"
    }
   ],
   "source": [
    "L[4:1:-1]\n"
   ]
  },
  {
   "cell_type": "code",
   "execution_count": null,
   "id": "9edd670b",
   "metadata": {},
   "outputs": [
    {
     "data": {
      "text/plain": [
       "['a', 'b', 'c', 'd']"
      ]
     },
     "execution_count": 26,
     "metadata": {},
     "output_type": "execute_result"
    }
   ],
   "source": [
    "L1=['a','b','c','d']\n",
    "L1\n"
   ]
  },
  {
   "cell_type": "code",
   "execution_count": 30,
   "id": "b573c173",
   "metadata": {},
   "outputs": [
    {
     "data": {
      "text/plain": [
       "['d', 'c', 'b']"
      ]
     },
     "execution_count": 30,
     "metadata": {},
     "output_type": "execute_result"
    }
   ],
   "source": [
    "L1[3:0:-1]"
   ]
  },
  {
   "cell_type": "code",
   "execution_count": null,
   "id": "a198b599",
   "metadata": {},
   "outputs": [
    {
     "name": "stdout",
     "output_type": "stream",
     "text": [
      "['Parrammatta', 30, 'Campbelltown', 10, 'Kingswood', 7]\n"
     ]
    }
   ],
   "source": [
    "\n",
    "#exercise 2.1\n",
    "campus = ['Parrammatta', 'Campbelltown', 'Kingswood']\n",
    "allocation = [30, 10, 7]\n",
    "total = []\n",
    "\n",
    "for name, alloc in zip(campus, allocation):\n",
    "    total.append(name)\n",
    "    total.append(alloc)\n",
    "    \n",
    "    \n",
    "print(total)"
   ]
  },
  {
   "cell_type": "code",
   "execution_count": 41,
   "id": "322aa25f",
   "metadata": {},
   "outputs": [
    {
     "data": {
      "text/plain": [
       "[[0, 'upset', 0], [0, 'upset', 0], [0, 'upset', 0], [0, 'upset', 0]]"
      ]
     },
     "execution_count": 41,
     "metadata": {},
     "output_type": "execute_result"
    }
   ],
   "source": [
    "S=[[0]*3]*4\n",
    "\n",
    "S[0][1] = 'upset'\n",
    "S"
   ]
  },
  {
   "cell_type": "code",
   "execution_count": 43,
   "id": "3c79e077",
   "metadata": {},
   "outputs": [],
   "source": [
    "L.append(L)"
   ]
  },
  {
   "cell_type": "code",
   "execution_count": 45,
   "id": "f0fa488a",
   "metadata": {},
   "outputs": [
    {
     "data": {
      "text/plain": [
       "[3, 6.4, 3, 'stuff', 'x^2+x+1', 21.333333333333332, [...]]"
      ]
     },
     "execution_count": 45,
     "metadata": {},
     "output_type": "execute_result"
    }
   ],
   "source": [
    "L[-1]"
   ]
  },
  {
   "cell_type": "code",
   "execution_count": 47,
   "id": "7fed136f",
   "metadata": {},
   "outputs": [
    {
     "data": {
      "text/plain": [
       "[3, 6.4, 3, 'stuff', 'x^2+x+1', 21.333333333333332, [...]]"
      ]
     },
     "execution_count": 47,
     "metadata": {},
     "output_type": "execute_result"
    }
   ],
   "source": [
    "L[-1][-1]"
   ]
  },
  {
   "cell_type": "code",
   "execution_count": null,
   "id": "eb249995",
   "metadata": {},
   "outputs": [],
   "source": [
    "from PIL import Image\n",
    "import os\n",
    "\n",
    "image_dir=r'C:\\Users\\Danilo\\Downloads'\n",
    "img = ('naslovna.jpg')\n",
    "\n",
    "image_path = os.path.join(image_dir, img)\n",
    "image = Image.open(image_path)\n",
    "image.show()\n",
    "\n"
   ]
  },
  {
   "cell_type": "code",
   "execution_count": null,
   "id": "ff69422c",
   "metadata": {},
   "outputs": [],
   "source": [
    "image.effect_spread(10)"
   ]
  },
  {
   "cell_type": "code",
   "execution_count": null,
   "id": "46cceb48",
   "metadata": {},
   "outputs": [
    {
     "data": {
      "text/plain": [
       "['first', 1, 2, 3, 4, 5, 'last']"
      ]
     },
     "execution_count": 65,
     "metadata": {},
     "output_type": "execute_result"
    }
   ],
   "source": [
    "#2.3\n",
    "list=['first',1,2,3,4,5,'last']\n",
    "list\n"
   ]
  },
  {
   "cell_type": "code",
   "execution_count": 72,
   "id": "bd75ad57",
   "metadata": {},
   "outputs": [
    {
     "data": {
      "text/plain": [
       "['last', 1, 2, 3, 4, 5, 'first']"
      ]
     },
     "execution_count": 72,
     "metadata": {},
     "output_type": "execute_result"
    }
   ],
   "source": [
    "list = [l, *r, f]\n",
    "list"
   ]
  },
  {
   "cell_type": "code",
   "execution_count": 73,
   "id": "5ccf532a",
   "metadata": {},
   "outputs": [
    {
     "data": {
      "text/plain": [
       "['last', 1, 2, 3, 4, 5, 'first']"
      ]
     },
     "execution_count": 73,
     "metadata": {},
     "output_type": "execute_result"
    }
   ],
   "source": [
    "list"
   ]
  },
  {
   "cell_type": "code",
   "execution_count": 82,
   "id": "bfc96d8b",
   "metadata": {},
   "outputs": [],
   "source": [
    "list1 = ['a', 1,2,3,4,5,6,7,8,9, 'b']\n",
    "l=list1[0]\n",
    "r=list1[1:-1]\n",
    "f=list1[-1]"
   ]
  },
  {
   "cell_type": "code",
   "execution_count": 83,
   "id": "28b0c9f7",
   "metadata": {},
   "outputs": [
    {
     "data": {
      "text/plain": [
       "['a', 1, 2, 3, 4, 5, 6, 7, 8, 9, 'b']"
      ]
     },
     "execution_count": 83,
     "metadata": {},
     "output_type": "execute_result"
    }
   ],
   "source": [
    "list1=[l, *r, f]\n",
    "list1"
   ]
  },
  {
   "cell_type": "code",
   "execution_count": 93,
   "id": "297d5328",
   "metadata": {},
   "outputs": [],
   "source": [
    "#2.4\n",
    "m = [['a','b','c'], ['d','e','f'], ['g','h','k']]\n",
    "n=[[0,0,0],[0,0,0],[0,0,0]]"
   ]
  },
  {
   "cell_type": "code",
   "execution_count": null,
   "id": "0fb23536",
   "metadata": {},
   "outputs": [
    {
     "data": {
      "text/plain": [
       "[['a', 'd', 'g'], ['b', 'e', 'h'], ['c', 'f', 'k']]"
      ]
     },
     "execution_count": 104,
     "metadata": {},
     "output_type": "execute_result"
    }
   ],
   "source": [
    "n[0][0], n[1][0], n[2][0] = m[0]\n",
    "n[0][1], n[1][1], n[2][1] = m[1]\n",
    "n[0][2], n[1][2], n[2][2] = m[2]\n",
    "n"
   ]
  },
  {
   "cell_type": "code",
   "execution_count": 101,
   "id": "4139ee00",
   "metadata": {},
   "outputs": [],
   "source": [
    "s = 'To be born again'"
   ]
  },
  {
   "cell_type": "code",
   "execution_count": 108,
   "id": "b6ae7cd2",
   "metadata": {},
   "outputs": [
    {
     "data": {
      "text/plain": [
       "'niaga nrob eb oT'"
      ]
     },
     "execution_count": 108,
     "metadata": {},
     "output_type": "execute_result"
    }
   ],
   "source": [
    "s[0]\n",
    "s[1]\n",
    "s[ :5]\n",
    "s[5: ]\n",
    "s[::-1]"
   ]
  },
  {
   "cell_type": "code",
   "execution_count": 109,
   "id": "b3a8f5b2",
   "metadata": {},
   "outputs": [
    {
     "data": {
      "text/plain": [
       "True"
      ]
     },
     "execution_count": 109,
     "metadata": {},
     "output_type": "execute_result"
    }
   ],
   "source": [
    "s1 = 'kayak'\n",
    "s1[::-1]==s1"
   ]
  },
  {
   "cell_type": "code",
   "execution_count": null,
   "id": "0df271c9",
   "metadata": {},
   "outputs": [],
   "source": [
    "import matplotlib.pyplot as plt\n",
    "\n",
    "plt.plot([1,2,2.5,4], [10, 12, -2, 1])"
   ]
  },
  {
   "cell_type": "code",
   "execution_count": null,
   "id": "ba68785a",
   "metadata": {},
   "outputs": [
    {
     "name": "stdout",
     "output_type": "stream",
     "text": [
      "[0.0, 0.29552020666133955, 0.479425538604203, 0.7173560908995228, 0.8414709848078965, 0.963558185417193, 0.9974949866040544, 0.9738476308781951, 0.9092974268256817, 0.7457052121767203, 0.5984721441039564, 0.3349881501559051, 0.1411200080598672, -0.1577456941432482, -0.35078322768961984]\n"
     ]
    }
   ],
   "source": [
    "from math import sin\n",
    "\n",
    "x = [0, 0.3, 0.5, 0.8, 1, 1.3, 1.5, 1.8, 2, 2.3, 2.5, 2.8, 3, 3.3, 3.5]\n",
    "y=[]\n",
    "for i in x:\n",
    "    y.append(sin(i))\n",
    "print(y)"
   ]
  },
  {
   "cell_type": "code",
   "execution_count": null,
   "id": "c92d33f3",
   "metadata": {},
   "outputs": [],
   "source": [
    "plt.plot(x,y)"
   ]
  },
  {
   "cell_type": "code",
   "execution_count": 140,
   "id": "b1c8885d",
   "metadata": {},
   "outputs": [
    {
     "data": {
      "text/plain": [
       "[<matplotlib.lines.Line2D at 0x1a26553f850>]"
      ]
     },
     "execution_count": 140,
     "metadata": {},
     "output_type": "execute_result"
    },
    {
     "data": {
      "image/png": "[encoded data removed]",
      "text/plain": [
       "<Figure size 640x480 with 1 Axes>"
      ]
     },
     "metadata": {},
     "output_type": "display_data"
    }
   ],
   "source": [
    "plt.plot(x, y[:: -1])\n",
    "plt.plot(x, y )"
   ]
  },
  {
   "cell_type": "code",
   "execution_count": null,
   "id": "9b2bf80c",
   "metadata": {},
   "outputs": [],
   "source": [
    "import pandas as pd\n",
    "\n",
    "RBA_data= pd.read_excel(r'C:\\Users\\Danilo\\Downloads\\f01hist.xlsx')\n",
    "print(RBA_data.head(10))"
   ]
  },
  {
   "cell_type": "code",
   "execution_count": null,
   "id": "868fbea9",
   "metadata": {},
   "outputs": [],
   "source": [
    "import pandas as pd\n",
    "\n",
    "RBA_data = pd.read_excel(r'C:\\Users\\Danilo\\Downloads\\f01hist.xlsx')\n",
    "\n",
    "#print(RBA_data.columns)  # Check column names\n",
    "\n",
    "filtered = RBA_data[RBA_data['F1.1 INTEREST RATES AND YIELDS – MONEY MARKET'].astype(str).str.contains('2002|2003', case=False, na=False)]\n",
    "\n",
    "print(filtered)"
   ]
  },
  {
   "cell_type": "code",
   "execution_count": null,
   "id": "a9bc8633",
   "metadata": {},
   "outputs": [],
   "source": [
    "import pandas as pd\n",
    "\n",
    "RBA_data = pd.read_excel(r'C:\\Users\\Danilo\\Downloads\\f01hist.xlsx')\n",
    "\n",
    "# Convert the date column to datetime\n",
    "RBA_data['F1.1 INTEREST RATES AND YIELDS – MONEY MARKET'] = pd.to_datetime(\n",
    "    RBA_data['F1.1 INTEREST RATES AND YIELDS – MONEY MARKET'], errors='coerce'\n",
    ")\n",
    "\n",
    "# Filter from October 2002 to June 2003 (inclusive)\n",
    "start = pd.Timestamp('2002-10-01')\n",
    "end = pd.Timestamp('2003-06-30')\n",
    "filtered = RBA_data[\n",
    "    (RBA_data['F1.1 INTEREST RATES AND YIELDS – MONEY MARKET'] >= start) &\n",
    "    (RBA_data['F1.1 INTEREST RATES AND YIELDS – MONEY MARKET'] <= end)\n",
    "]\n",
    "\n",
    "output = filtered.iloc[:, :2].copy()\n",
    "output.columns = ['Month', 'Value']  # Change to your desired names\n",
    "\n",
    "print(output)"
   ]
  },
  {
   "cell_type": "code",
   "execution_count": 133,
   "id": "63bfb3c8",
   "metadata": {},
   "outputs": [
    {
     "data": {
      "image/png": "[encoded data removed]",
      "text/plain": [
       "<Figure size 1200x500 with 1 Axes>"
      ]
     },
     "metadata": {},
     "output_type": "display_data"
    }
   ],
   "source": [
    "import matplotlib.pyplot as plt\n",
    "\n",
    "plt.figure(figsize=(12,5))\n",
    "plt.plot(output['Month'], output['Value'], marker='o')\n",
    "plt.xlabel('Month')\n",
    "plt.ylabel('Value')\n",
    "plt.title('Values from October 2002 to June 2003')\n",
    "plt.xticks(rotation=45)\n",
    "plt.tight_layout()\n",
    "plt.show()"
   ]
  }
 ],
 "metadata": {
  "kernelspec": {
   "display_name": "Python 3",
   "language": "python",
   "name": "python3"
  },
  "language_info": {
   "codemirror_mode": {
    "name": "ipython",
    "version": 3
   },
   "file_extension": ".py",
   "mimetype": "text/x-python",
   "name": "python",
   "nbconvert_exporter": "python",
   "pygments_lexer": "ipython3",
   "version": "3.11.9"
  }
 },
 "nbformat": 4,
 "nbformat_minor": 5
}
